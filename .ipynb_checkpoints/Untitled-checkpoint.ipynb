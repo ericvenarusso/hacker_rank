{
 "cells": [
  {
   "cell_type": "markdown",
   "metadata": {},
   "source": [
    "## Sock Merchant"
   ]
  },
  {
   "cell_type": "markdown",
   "metadata": {},
   "source": [
    "### Problem"
   ]
  },
  {
   "cell_type": "markdown",
   "metadata": {},
   "source": [
    "John works at a clothing store. He has a large pile of socks that he must pair by color for sale. Given an array of integers representing the color of each sock, determine how many pairs of socks with matching colors there are.\n",
    "\n",
    "For example, there are n = 7 socks with colors ar = [1, 2, 1, 2, 1, 3, 2]. There is one pair of color 1 and one of color 2. There are three odd socks left, one of each color. The number of pairs is 2."
   ]
  },
  {
   "cell_type": "markdown",
   "metadata": {},
   "source": [
    "### Function Description"
   ]
  },
  {
   "cell_type": "markdown",
   "metadata": {},
   "source": [
    "Complete the sockMerchant function in the editor below. It must return an integer representing the number of matching pairs of socks that are available.\n",
    "\n",
    "sockMerchant has the following parameter(s):\n",
    "\n",
    "* n: the number of socks in the pile\n",
    "* ar: the colors of each sock"
   ]
  },
  {
   "cell_type": "markdown",
   "metadata": {},
   "source": [
    "### Output Format"
   ]
  },
  {
   "cell_type": "markdown",
   "metadata": {},
   "source": [
    "Return the total number of matching pairs of socks that John can sell."
   ]
  },
  {
   "cell_type": "markdown",
   "metadata": {},
   "source": [
    "### Sample Input"
   ]
  },
  {
   "cell_type": "markdown",
   "metadata": {},
   "source": [
    "9\n",
    "<br>\n",
    "10 20 20 10 10 30 50 10 20"
   ]
  },
  {
   "cell_type": "markdown",
   "metadata": {},
   "source": [
    "### Sample Output"
   ]
  },
  {
   "cell_type": "markdown",
   "metadata": {},
   "source": [
    "3"
   ]
  },
  {
   "cell_type": "markdown",
   "metadata": {},
   "source": [
    "### Solution"
   ]
  },
  {
   "cell_type": "code",
   "execution_count": 66,
   "metadata": {},
   "outputs": [
    {
     "data": {
      "text/plain": [
       "3"
      ]
     },
     "execution_count": 66,
     "metadata": {},
     "output_type": "execute_result"
    }
   ],
   "source": [
    "def sockMerchant(n, ar):\n",
    "    \n",
    "    counts = dict()\n",
    "    for i in ar:\n",
    "        counts[i] = counts.get(i, 0) + 1\n",
    "        \n",
    "    return sum([ int(value / 2) for key, value in counts.items()])\n",
    "\n",
    "\n",
    "n = 9\n",
    "ar = [10, 20, 20, 10, 10, 30, 50, 10, 20]\n",
    "\n",
    "sockMerchant(n, ar)"
   ]
  },
  {
   "cell_type": "markdown",
   "metadata": {},
   "source": [
    "## Counting Valleys"
   ]
  },
  {
   "cell_type": "code",
   "execution_count": 88,
   "metadata": {},
   "outputs": [
    {
     "data": {
      "text/plain": [
       "1"
      ]
     },
     "execution_count": 88,
     "metadata": {},
     "output_type": "execute_result"
    }
   ],
   "source": [
    "def countingValleys(n, s):\n",
    "    level, valey = 0, 0\n",
    "    \n",
    "    for i in range(n):\n",
    "        if s[i] == \"U\":\n",
    "            level += 1\n",
    "            if level == 0:\n",
    "                valey +=1\n",
    "        else:\n",
    "            level -=1\n",
    "                    \n",
    "    return valey\n",
    "            \n",
    "        \n",
    "            \n",
    "n = 8\n",
    "s = 'UDDDUDUU'\n",
    "\n",
    "countingValleys(n, s)"
   ]
  },
  {
   "cell_type": "markdown",
   "metadata": {},
   "source": [
    "## Jumping on the Clouds"
   ]
  },
  {
   "cell_type": "code",
   "execution_count": 131,
   "metadata": {},
   "outputs": [
    {
     "data": {
      "text/plain": [
       "19"
      ]
     },
     "execution_count": 131,
     "metadata": {},
     "output_type": "execute_result"
    }
   ],
   "source": [
    "def hourglassSum(arr):\n",
    "    \n",
    "    result = []\n",
    "    \n",
    "    arr_pos_up = 0\n",
    "    arr_pos_middle = 1\n",
    "    arr_pos_down = 2\n",
    "\n",
    "    for i in range(4):\n",
    "        start_up = 0 \n",
    "        start_down = 0\n",
    "        middle = 1\n",
    "        end_up = 3 \n",
    "        end_down = 3\n",
    "\n",
    "\n",
    "        for i in range(4):\n",
    "            result.append(sum(arr[arr_pos_up][start_up:end_up]) + arr[arr_pos_middle][middle] + sum(arr[arr_pos_down][start_down:end_down]))\n",
    "\n",
    "            start_up += 1\n",
    "            start_down += 1\n",
    "            middle += 1\n",
    "            end_up += 1\n",
    "            end_down += 1\n",
    "            \n",
    "        arr_pos_up += 1\n",
    "        arr_pos_middle += 1\n",
    "        arr_pos_down += 1\n",
    "    \n",
    "    return max(result)\n",
    "    \n",
    "arr = [[1, 1, 1, 0, 0, 0], [0, 1, 0, 0, 0, 0], [1, 1, 1, 0, 0, 0], [0, 0, 2, 4, 4, 0], [0, 0, 0, 2, 0, 0], [0, 0, 1, 2, 4, 0]]\n",
    "\n",
    "hourglassSum(arr)"
   ]
  },
  {
   "cell_type": "code",
   "execution_count": 168,
   "metadata": {},
   "outputs": [
    {
     "data": {
      "text/plain": [
       "2"
      ]
     },
     "execution_count": 168,
     "metadata": {},
     "output_type": "execute_result"
    }
   ],
   "source": [
    "def minimumBribes(q):\n",
    "    index = 0\n",
    "    count = 0\n",
    "    for i in q:\n",
    "        \n",
    "        try: \n",
    "            if i > q[index + 1]:\n",
    "                count += 1\n",
    "        except:\n",
    "            0\n",
    "        index +=1\n",
    "        \n",
    "    return count\n",
    "\n",
    "q = [1, 2, 5, 3, 4, 7, 8, 6]\n",
    "\n",
    "minimumBribes(q)"
   ]
  },
  {
   "cell_type": "code",
   "execution_count": 10,
   "metadata": {},
   "outputs": [
    {
     "name": "stdout",
     "output_type": "stream",
     "text": [
      "4\n",
      "4\n",
      "5\n",
      "5\n",
      "4\n",
      "6\n",
      "7\n"
     ]
    }
   ],
   "source": [
    "def minimumSwaps(arr):\n",
    "    index = 1\n",
    "    count = 0\n",
    "    for i in arr:\n",
    "        \n",
    "        try:\n",
    "            if i > arr[index]:\n",
    "                index+=1\n",
    "        except:\n",
    "            0\n",
    "            \n",
    "\n",
    "arr1 = [4, 3, 1, 2]\n",
    "arr2 = [2, 3, 4, 1, 5]\n",
    "arr3 = [1, 3, 5, 2, 4, 6, 7]\n",
    "\n",
    "minimumSwaps(arr1)\n",
    "minimumSwaps(arr2)\n",
    "minimumSwaps(arr3)"
   ]
  }
 ],
 "metadata": {
  "kernelspec": {
   "display_name": "Python 3",
   "language": "python",
   "name": "python3"
  },
  "language_info": {
   "codemirror_mode": {
    "name": "ipython",
    "version": 3
   },
   "file_extension": ".py",
   "mimetype": "text/x-python",
   "name": "python",
   "nbconvert_exporter": "python",
   "pygments_lexer": "ipython3",
   "version": "3.7.2"
  }
 },
 "nbformat": 4,
 "nbformat_minor": 2
}
